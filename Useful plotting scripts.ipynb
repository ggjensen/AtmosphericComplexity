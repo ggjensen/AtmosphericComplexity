version https://git-lfs.github.com/spec/v1
oid sha256:44e786e6027a7eed92ab182054e394995ee67c4ba9909a760247063f466f0283
size 827
