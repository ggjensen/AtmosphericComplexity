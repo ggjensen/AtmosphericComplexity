version https://git-lfs.github.com/spec/v1
oid sha256:cbb85bf08d6f10fdd0c617dd9e981a6f6a53156d1214f4a7b8810f37ed728081
size 44271874
